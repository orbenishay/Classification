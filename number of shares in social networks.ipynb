{
  "nbformat": 4,
  "nbformat_minor": 0,
  "metadata": {
    "colab": {
      "name": "scratchpad",
      "provenance": [],
      "include_colab_link": true
    },
    "kernelspec": {
      "display_name": "Python 3",
      "name": "python3"
    }
  },
  "cells": [
    {
      "cell_type": "markdown",
      "metadata": {
        "id": "view-in-github",
        "colab_type": "text"
      },
      "source": [
        "<a href=\"https://colab.research.google.com/github/orbenishay/Classification/blob/master/number%20of%20shares%20in%20social%20networks.ipynb\" target=\"_parent\"><img src=\"https://colab.research.google.com/assets/colab-badge.svg\" alt=\"Open In Colab\"/></a>"
      ]
    },
    {
      "cell_type": "markdown",
      "metadata": {
        "id": "uVjS0Il0vNVq",
        "colab_type": "text"
      },
      "source": [
        "# **Number of shares in social networks**\n",
        "\n",
        "https://code.datasciencedojo.com/datasciencedojo/datasets/tree/master/Online%20News%20Popularity"
      ]
    },
    {
      "cell_type": "code",
      "metadata": {
        "id": "LdIqRIX4vNhm",
        "colab_type": "code",
        "colab": {}
      },
      "source": [
        "# import modules\n",
        "# General tools\n",
        "import pandas as pd\n",
        "import numpy as np\n",
        "import matplotlib.pyplot as plt\n",
        "%matplotlib inline\n",
        "import seaborn as sns\n",
        "import re\n",
        "import warnings\n",
        "\n",
        "# Pandas\n",
        "from datetime import datetime\n",
        "from datetime import timedelta\n",
        "\n",
        "\n",
        "\n",
        "# Pipieline summarized:\n",
        "from scipy.optimize import curve_fit# For curve fitting\n",
        "from sklearn.base import TransformerMixin # For transformations and predictions\n",
        "from sklearn.preprocessing import FunctionTransformer\n",
        "from sklearn.base import BaseEstimator # For predictions\n",
        "from sklearn.metrics import mean_squared_log_error as msle # For scoring\n",
        "from sklearn.metrics import mean_squared_error as mse # For scoring\n",
        "from sklearn.linear_model import LinearRegression\n",
        "from sklearn.tree import DecisionTreeRegressor, export_graphviz\n",
        "from sklearn.neighbors import KNeighborsRegressor\n",
        "from sklearn.preprocessing import MinMaxScaler\n",
        "from sklearn.metrics import pairwise_distances\n",
        "import pydot as pyd # For the tree visualization\n",
        "from IPython.display import Image\n",
        "from sklearn.externals.six import StringIO\n",
        "from sklearn.model_selection import train_test_split # For validation\n",
        "from sklearn.impute import SimpleImputer\n",
        "from sklearn.preprocessing import PolynomialFeatures\n",
        "from sklearn.preprocessing import LabelBinarizer\n",
        "from sklearn.feature_extraction.text import CountVectorizer\n",
        "\n",
        "from sklearn.metrics import confusion_matrix, accuracy_score # For classification\n",
        "from sklearn.metrics import precision_score, recall_score, f1_score # For classification\n",
        "from sklearn.metrics import log_loss # For classification\n",
        "\n",
        "!pip install pydot\n",
        "\n",
        "import sys"
      ],
      "execution_count": 0,
      "outputs": []
    },
    {
      "cell_type": "code",
      "metadata": {
        "id": "GeoDOyedvXFY",
        "colab_type": "code",
        "colab": {}
      },
      "source": [
        "import sys\n",
        "if 'google.colab' in sys.modules:\n",
        "    from google.colab import files\n",
        "    uploaded = files.upload()"
      ],
      "execution_count": 0,
      "outputs": []
    },
    {
      "cell_type": "code",
      "metadata": {
        "id": "V8mTvqwnvapM",
        "colab_type": "code",
        "colab": {}
      },
      "source": [
        "shares=pd.read_csv('Shares.csv', index_col='url')\n",
        "shares.head()\n",
        "\n",
        "dictionary=pd.read_csv('Dictionary.csv', index_col='Column Position')\n",
        "dictionary.head()"
      ],
      "execution_count": 0,
      "outputs": []
    }
  ]
}